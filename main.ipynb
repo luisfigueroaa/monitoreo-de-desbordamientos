{
 "cells": [
  {
   "cell_type": "markdown",
   "id": "acknowledged-blowing",
   "metadata": {},
   "source": [
    "# Implementación de un sistema de detección y monitoreo de desbordamientos de ríos usando procesamiento digital de imágenes satelitales con Python"
   ]
  },
  {
   "cell_type": "markdown",
   "id": "sunrise-scoop",
   "metadata": {},
   "source": [
    "## Proceso inicial"
   ]
  },
  {
   "cell_type": "markdown",
   "id": "eastern-princess",
   "metadata": {},
   "source": [
    "La libreria earthpy debe estar instalado necesariamente"
   ]
  },
  {
   "cell_type": "raw",
   "id": "color-equality",
   "metadata": {},
   "source": [
    "!pip install earthpy"
   ]
  },
  {
   "cell_type": "markdown",
   "id": "careful-portland",
   "metadata": {},
   "source": [
    "Llamar a las librerias"
   ]
  },
  {
   "cell_type": "code",
   "execution_count": 1,
   "id": "laughing-happiness",
   "metadata": {},
   "outputs": [
    {
     "data": {
      "text/plain": [
       "{'divide': 'warn', 'over': 'warn', 'under': 'ignore', 'invalid': 'warn'}"
      ]
     },
     "execution_count": 1,
     "metadata": {},
     "output_type": "execute_result"
    }
   ],
   "source": [
    "from glob import glob\n",
    "\n",
    "import earthpy as et\n",
    "import earthpy.spatial as es\n",
    "import earthpy.plot as ep\n",
    "\n",
    "import rasterio as rio\n",
    "\n",
    "import matplotlib.pyplot as plt\n",
    "import numpy as np\n",
    "from matplotlib.colors import ListedColormap\n",
    "\n",
    "import plotly.graph_objects as go\n",
    "\n",
    "np.seterr(divide='ignore', invalid='ignore')"
   ]
  },
  {
   "cell_type": "markdown",
   "id": "touched-winning",
   "metadata": {},
   "source": [
    "Cambiar data a el directorio donde se sacarán los datos"
   ]
  },
  {
   "cell_type": "code",
   "execution_count": 2,
   "id": "optional-prescription",
   "metadata": {
    "scrolled": false
   },
   "outputs": [
    {
     "name": "stdout",
     "output_type": "stream",
     "text": [
      "/home/luis/Documentos/UCSM/SEMESTRE 2021/proyecto de tesis/archivos del proyecto/data-de-satelite/madagascar\n"
     ]
    }
   ],
   "source": [
    "%cd /home/luis/Documentos/UCSM/SEMESTRE 2021/proyecto de tesis/archivos del proyecto/data-de-satelite/madagascar"
   ]
  },
  {
   "cell_type": "code",
   "execution_count": 18,
   "id": "spiritual-environment",
   "metadata": {},
   "outputs": [],
   "source": [
    "# generar un path a la carpeta madagascar\n",
    "path_madagascar = \"/home/luis/Documentos/UCSM/SEMESTRE 2021/proyecto de tesis/archivos del proyecto/data-de-satelite/madagascar\""
   ]
  },
  {
   "cell_type": "markdown",
   "id": "automated-endorsement",
   "metadata": {},
   "source": [
    "Generar la ruta para la data antes y durante las inundaciones."
   ]
  },
  {
   "cell_type": "code",
   "execution_count": 4,
   "id": "endless-brush",
   "metadata": {},
   "outputs": [],
   "source": [
    "before_floods_data_path = \"Madagascar_18_01_2017\"\n",
    "during_floods_data_path = \"Madagascar_27_01_2020\""
   ]
  },
  {
   "cell_type": "markdown",
   "id": "alert-copyright",
   "metadata": {},
   "source": [
    "## Antes de las inundaciones"
   ]
  },
  {
   "cell_type": "code",
   "execution_count": 26,
   "id": "legitimate-energy",
   "metadata": {},
   "outputs": [
    {
     "data": {
      "text/plain": [
       "['/home/luis/Documentos/UCSM/SEMESTRE 2021/proyecto de tesis/archivos del proyecto/data-de-satelite/madagascar/Madagascar_18_01_2017/2017-01-18-00_00_2017-01-18-23_59_Landsat_8_(USGS_archive)_B01_(Raw).tiff',\n",
       " '/home/luis/Documentos/UCSM/SEMESTRE 2021/proyecto de tesis/archivos del proyecto/data-de-satelite/madagascar/Madagascar_18_01_2017/2017-01-18-00_00_2017-01-18-23_59_Landsat_8_(USGS_archive)_B02_(Raw).tiff',\n",
       " '/home/luis/Documentos/UCSM/SEMESTRE 2021/proyecto de tesis/archivos del proyecto/data-de-satelite/madagascar/Madagascar_18_01_2017/2017-01-18-00_00_2017-01-18-23_59_Landsat_8_(USGS_archive)_B03_(Raw).tiff',\n",
       " '/home/luis/Documentos/UCSM/SEMESTRE 2021/proyecto de tesis/archivos del proyecto/data-de-satelite/madagascar/Madagascar_18_01_2017/2017-01-18-00_00_2017-01-18-23_59_Landsat_8_(USGS_archive)_B04_(Raw).tiff',\n",
       " '/home/luis/Documentos/UCSM/SEMESTRE 2021/proyecto de tesis/archivos del proyecto/data-de-satelite/madagascar/Madagascar_18_01_2017/2017-01-18-00_00_2017-01-18-23_59_Landsat_8_(USGS_archive)_B05_(Raw).tiff',\n",
       " '/home/luis/Documentos/UCSM/SEMESTRE 2021/proyecto de tesis/archivos del proyecto/data-de-satelite/madagascar/Madagascar_18_01_2017/2017-01-18-00_00_2017-01-18-23_59_Landsat_8_(USGS_archive)_B06_(Raw).tiff',\n",
       " '/home/luis/Documentos/UCSM/SEMESTRE 2021/proyecto de tesis/archivos del proyecto/data-de-satelite/madagascar/Madagascar_18_01_2017/2017-01-18-00_00_2017-01-18-23_59_Landsat_8_(USGS_archive)_B07_(Raw).tiff',\n",
       " '/home/luis/Documentos/UCSM/SEMESTRE 2021/proyecto de tesis/archivos del proyecto/data-de-satelite/madagascar/Madagascar_18_01_2017/2017-01-18-00_00_2017-01-18-23_59_Landsat_8_(USGS_archive)_B08_(Raw).tiff',\n",
       " '/home/luis/Documentos/UCSM/SEMESTRE 2021/proyecto de tesis/archivos del proyecto/data-de-satelite/madagascar/Madagascar_18_01_2017/2017-01-18-00_00_2017-01-18-23_59_Landsat_8_(USGS_archive)_B09_(Raw).tiff']"
      ]
     },
     "execution_count": 26,
     "metadata": {},
     "output_type": "execute_result"
    }
   ],
   "source": [
    "before_floods = glob(f\"{path_madagascar}/Madagascar_18_01_2017/*B?*.tiff\") \n",
    "# ordenar la data\n",
    "before_floods.sort()\n",
    "# print\n",
    "before_floods"
   ]
  },
  {
   "cell_type": "code",
   "execution_count": 36,
   "id": "danish-while",
   "metadata": {},
   "outputs": [],
   "source": [
    "l = []\n",
    "for i in before_floods:\n",
    "  with rio.open(i, 'r') as f:\n",
    "    l.append(f.read(1))\n",
    "\n",
    "arr_bef = np.stack(l)"
   ]
  },
  {
   "cell_type": "code",
   "execution_count": 37,
   "id": "parliamentary-anthony",
   "metadata": {},
   "outputs": [
    {
     "data": {
      "text/plain": [
       "(9, 602, 676)"
      ]
     },
     "execution_count": 37,
     "metadata": {},
     "output_type": "execute_result"
    }
   ],
   "source": [
    "arr_bef.shape"
   ]
  },
  {
   "cell_type": "markdown",
   "id": "proof-numbers",
   "metadata": {},
   "source": [
    "## Visualización de la data"
   ]
  },
  {
   "cell_type": "code",
   "execution_count": null,
   "id": "southwest-drove",
   "metadata": {},
   "outputs": [],
   "source": [
    "# visualizar bandas\n",
    "ep.plot_bands(arr_bef, cmap='Spectral_r', cols=3, figsize=(10, 10), cbar=False)"
   ]
  }
 ],
 "metadata": {
  "kernelspec": {
   "display_name": "Python 3",
   "language": "python",
   "name": "python3"
  },
  "language_info": {
   "codemirror_mode": {
    "name": "ipython",
    "version": 3
   },
   "file_extension": ".py",
   "mimetype": "text/x-python",
   "name": "python",
   "nbconvert_exporter": "python",
   "pygments_lexer": "ipython3",
   "version": "3.8.5"
  }
 },
 "nbformat": 4,
 "nbformat_minor": 5
}
